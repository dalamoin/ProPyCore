{
 "cells": [
  {
   "cell_type": "markdown",
   "metadata": {},
   "source": [
    "# ProPyCore SDK Examples: Budgets\n",
    "\n",
    "This notebook contains snippets from the `budgets.py` module."
   ]
  },
  {
   "cell_type": "code",
   "execution_count": 1,
   "metadata": {},
   "outputs": [],
   "source": [
    "import os\n",
    "import dotenv\n",
    "import json\n",
    "\n",
    "import ProPyCore"
   ]
  },
  {
   "cell_type": "markdown",
   "metadata": {},
   "source": [
    "## Setup\n",
    "You will need to create the connection to your Procore app and then get the details for your company and project.\n",
    "\n",
    "### Connection to Procore App\n",
    "Ensure you have a `.env` file with the following information included:\n",
    "* `CLIENT_ID`: your data connection app's client ID\n",
    "* `CLIENT_SECRET`: your data connection app's client secret"
   ]
  },
  {
   "cell_type": "code",
   "execution_count": 2,
   "metadata": {},
   "outputs": [],
   "source": [
    "dotenv.load_dotenv()\n",
    "connection = ProPyCore.procore.Procore(\n",
    "    client_id=os.getenv(\"CLIENT_ID\"),\n",
    "    client_secret=os.getenv(\"CLIENT_SECRET\"),\n",
    "    redirect_uri=\"urn:ietf:wg:oauth:2.0:oob\", # default for data connection apps\n",
    "    oauth_url=\"https://app.procore.com\", # default for data connection apps\n",
    "    base_url=\"https://app.procore.com\" # default for data connection apps\n",
    ")"
   ]
  },
  {
   "cell_type": "markdown",
   "metadata": {},
   "source": [
    "### Get Company and Project\n",
    "Use the cells below to specify your company and your project"
   ]
  },
  {
   "cell_type": "code",
   "execution_count": 3,
   "metadata": {},
   "outputs": [],
   "source": [
    "company_name = \"Rogers-O`Brien Construction\"\n",
    "project_name = \"Sandbox Test Project\""
   ]
  },
  {
   "cell_type": "markdown",
   "metadata": {},
   "source": [
    "Now use the ProPyCore `connection` variable to get the company and project details."
   ]
  },
  {
   "cell_type": "code",
   "execution_count": 4,
   "metadata": {},
   "outputs": [
    {
     "name": "stdout",
     "output_type": "stream",
     "text": [
      "8089 2783683\n"
     ]
    }
   ],
   "source": [
    "company = connection.companies.find(identifier=company_name)\n",
    "project = connection.projects.find(\n",
    "    company_id=company[\"id\"],\n",
    "    identifier=project_name\n",
    ")\n",
    "print(company[\"id\"], project[\"id\"])"
   ]
  },
  {
   "cell_type": "markdown",
   "metadata": {},
   "source": [
    "---"
   ]
  },
  {
   "cell_type": "markdown",
   "metadata": {},
   "source": [
    "## Budgets: Views\n",
    "To get budget data, you need to specify which view you would like to access data from. On the frontend, the names of the views are provided in one of the dropdowns on the budget tool:\n",
    "\n",
    "![budget-views](https://github.com/rogers-obrien-rad/ProPyCore/docs/images/procore-budget-views.png)"
   ]
  },
  {
   "cell_type": "markdown",
   "metadata": {},
   "source": [
    "#### `budgets.views.get()`\n",
    "You can get the same list of views as seen above using the `get()` method from the `budgets.views` accessor."
   ]
  },
  {
   "cell_type": "code",
   "execution_count": 5,
   "metadata": {},
   "outputs": [
    {
     "name": "stdout",
     "output_type": "stream",
     "text": [
      "{\n",
      "    \"id\": 406809,\n",
      "    \"created_at\": \"2022-02-10T20:30:57Z\",\n",
      "    \"description\": \"Detailed Budget View to be used for Forecasting\",\n",
      "    \"name\": \"Detailed Budget View\",\n",
      "    \"updated_at\": \"2022-03-10T21:37:23Z\",\n",
      "    \"role\": \"budgeting\",\n",
      "    \"links\": {\n",
      "        \"detail_rows\": \"https://app.procore.com/rest/v1.0/budget_views/406809/detail_rows?project_id=2783683\",\n",
      "        \"summary_rows\": \"https://app.procore.com/rest/v1.0/budget_views/406809/summary_rows?project_id=2783683\"\n",
      "    },\n",
      "    \"created_by\": {\n",
      "        \"id\": 6923972,\n",
      "        \"login\": \"david@mcdonnelconsulting.com\",\n",
      "        \"name\": \"David McDonnel\"\n",
      "    }\n",
      "}\n",
      "Budget view names and IDs:\n",
      "('Detailed Budget View', 406809)\n",
      "('Non-Budgeted Sources', 408958)\n",
      "('Change Management', 408960)\n",
      "('Simple Budget View', 414205)\n",
      "('RO Forecast Over Time', 428532)\n",
      "('PSS Monthly Snapshot View', 445339)\n"
     ]
    }
   ],
   "source": [
    "views = connection.budgets.views.get(\n",
    "    company_id=company[\"id\"],\n",
    "    project_id=project[\"id\"]\n",
    ")\n",
    "print(json.dumps(views[0], indent=4))\n",
    "\n",
    "view_ids = [(view[\"name\"], view[\"id\"]) for view in views]\n",
    "print(\"Budget view names and IDs:\")\n",
    "for view_id in view_ids:\n",
    "    print(view_id)"
   ]
  },
  {
   "cell_type": "markdown",
   "metadata": {},
   "source": [
    "#### `budgets.views.find()`\n",
    "If you want to find a specific view, you can use the `find()` method."
   ]
  },
  {
   "cell_type": "code",
   "execution_count": 6,
   "metadata": {},
   "outputs": [
    {
     "name": "stdout",
     "output_type": "stream",
     "text": [
      "{\n",
      "    \"id\": 406809,\n",
      "    \"created_at\": \"2022-02-10T20:30:57Z\",\n",
      "    \"description\": \"Detailed Budget View to be used for Forecasting\",\n",
      "    \"name\": \"Detailed Budget View\",\n",
      "    \"updated_at\": \"2022-03-10T21:37:23Z\",\n",
      "    \"role\": \"budgeting\",\n",
      "    \"links\": {\n",
      "        \"detail_rows\": \"https://app.procore.com/rest/v1.0/budget_views/406809/detail_rows?project_id=2783683\",\n",
      "        \"summary_rows\": \"https://app.procore.com/rest/v1.0/budget_views/406809/summary_rows?project_id=2783683\"\n",
      "    },\n",
      "    \"created_by\": {\n",
      "        \"id\": 6923972,\n",
      "        \"login\": \"david@mcdonnelconsulting.com\",\n",
      "        \"name\": \"David McDonnel\"\n",
      "    }\n",
      "}\n"
     ]
    }
   ],
   "source": [
    "# Use find() with a string name\n",
    "view_str = \"Detailed Budget View\"\n",
    "view_by_str = connection.budgets.views.find(\n",
    "    company_id=company[\"id\"],\n",
    "    project_id=project[\"id\"],\n",
    "    identifier=view_str\n",
    ")\n",
    "print(json.dumps(view_by_str, indent=4))"
   ]
  },
  {
   "cell_type": "code",
   "execution_count": 7,
   "metadata": {},
   "outputs": [
    {
     "name": "stdout",
     "output_type": "stream",
     "text": [
      "{\n",
      "    \"id\": 414205,\n",
      "    \"created_at\": \"2022-03-10T20:44:29Z\",\n",
      "    \"description\": \"Simplified budget view for PM's\",\n",
      "    \"name\": \"Simple Budget View\",\n",
      "    \"updated_at\": \"2022-03-10T21:37:41Z\",\n",
      "    \"role\": \"budgeting\",\n",
      "    \"links\": {\n",
      "        \"detail_rows\": \"https://app.procore.com/rest/v1.0/budget_views/414205/detail_rows?project_id=2783683\",\n",
      "        \"summary_rows\": \"https://app.procore.com/rest/v1.0/budget_views/414205/summary_rows?project_id=2783683\"\n",
      "    },\n",
      "    \"created_by\": {\n",
      "        \"id\": 6923972,\n",
      "        \"login\": \"david@mcdonnelconsulting.com\",\n",
      "        \"name\": \"David McDonnel\"\n",
      "    }\n",
      "}\n"
     ]
    }
   ],
   "source": [
    "# Use find() with an integer ID\n",
    "view_int= 414205\n",
    "view_by_int = connection.budgets.views.find(\n",
    "    company_id=company[\"id\"],\n",
    "    project_id=project[\"id\"],\n",
    "    identifier=view_int\n",
    ")\n",
    "print(json.dumps(view_by_int, indent=4))"
   ]
  },
  {
   "cell_type": "markdown",
   "metadata": {},
   "source": [
    "If you provide an invalid string name or integer ID, the function will raise a `NotFoundItemError`."
   ]
  },
  {
   "cell_type": "code",
   "execution_count": 8,
   "metadata": {},
   "outputs": [
    {
     "ename": "NotFoundItemError",
     "evalue": "'Could not find view 111111'",
     "output_type": "error",
     "traceback": [
      "\u001b[1;31m---------------------------------------------------------------------------\u001b[0m",
      "\u001b[1;31mNotFoundItemError\u001b[0m                         Traceback (most recent call last)",
      "Cell \u001b[1;32mIn[8], line 1\u001b[0m\n\u001b[1;32m----> 1\u001b[0m _ \u001b[38;5;241m=\u001b[39m \u001b[43mconnection\u001b[49m\u001b[38;5;241;43m.\u001b[39;49m\u001b[43mbudgets\u001b[49m\u001b[38;5;241;43m.\u001b[39;49m\u001b[43mviews\u001b[49m\u001b[38;5;241;43m.\u001b[39;49m\u001b[43mfind\u001b[49m\u001b[43m(\u001b[49m\n\u001b[0;32m      2\u001b[0m \u001b[43m    \u001b[49m\u001b[43mcompany_id\u001b[49m\u001b[38;5;241;43m=\u001b[39;49m\u001b[43mcompany\u001b[49m\u001b[43m[\u001b[49m\u001b[38;5;124;43m\"\u001b[39;49m\u001b[38;5;124;43mid\u001b[39;49m\u001b[38;5;124;43m\"\u001b[39;49m\u001b[43m]\u001b[49m\u001b[43m,\u001b[49m\n\u001b[0;32m      3\u001b[0m \u001b[43m    \u001b[49m\u001b[43mproject_id\u001b[49m\u001b[38;5;241;43m=\u001b[39;49m\u001b[43mproject\u001b[49m\u001b[43m[\u001b[49m\u001b[38;5;124;43m\"\u001b[39;49m\u001b[38;5;124;43mid\u001b[39;49m\u001b[38;5;124;43m\"\u001b[39;49m\u001b[43m]\u001b[49m\u001b[43m,\u001b[49m\n\u001b[0;32m      4\u001b[0m \u001b[43m    \u001b[49m\u001b[43midentifier\u001b[49m\u001b[38;5;241;43m=\u001b[39;49m\u001b[38;5;241;43m111111\u001b[39;49m\n\u001b[0;32m      5\u001b[0m \u001b[43m)\u001b[49m\n",
      "File \u001b[1;32mc:\\Users\\hfritz\\OneDrive - RO\\Documents\\packages\\ProPyCore\\.venv\\Lib\\site-packages\\ProPyCore\\access\\budgets\\views.py:73\u001b[0m, in \u001b[0;36mBudgetViews.find\u001b[1;34m(self, company_id, project_id, identifier)\u001b[0m\n\u001b[0;32m     71\u001b[0m     \u001b[38;5;28;01mif\u001b[39;00m view[key] \u001b[38;5;241m==\u001b[39m identifier:\n\u001b[0;32m     72\u001b[0m         \u001b[38;5;28;01mreturn\u001b[39;00m view\n\u001b[1;32m---> 73\u001b[0m \u001b[38;5;28;01mraise\u001b[39;00m NotFoundItemError(\u001b[38;5;124mf\u001b[39m\u001b[38;5;124m\"\u001b[39m\u001b[38;5;124mCould not find view \u001b[39m\u001b[38;5;132;01m{\u001b[39;00midentifier\u001b[38;5;132;01m}\u001b[39;00m\u001b[38;5;124m\"\u001b[39m)\n",
      "\u001b[1;31mNotFoundItemError\u001b[0m: 'Could not find view 111111'"
     ]
    }
   ],
   "source": [
    "_ = connection.budgets.views.find(\n",
    "    company_id=company[\"id\"],\n",
    "    project_id=project[\"id\"],\n",
    "    identifier=111111\n",
    ")"
   ]
  },
  {
   "cell_type": "markdown",
   "metadata": {},
   "source": [
    "---"
   ]
  },
  {
   "cell_type": "markdown",
   "metadata": {},
   "source": [
    "## Budgets: Columns\n",
    "The endpoint to get column data from a budget view provides high-level meta data rather than actual numeric values. The columns that you can access relate to those on the Procore frontend:\n",
    "\n",
    "![budget-cols](https://github.com/rogers-obrien-rad/ProPyCore/docs/images/procore-budget-cols.png)"
   ]
  },
  {
   "cell_type": "markdown",
   "metadata": {},
   "source": [
    "#### `budgets.columns.get()`\n",
    "You can get the list of columns for a budget view by using `get()` method from the `budgets.columns` accessor including the view ID.\n",
    "\n",
    ":exclamation: **Note**: Only \"source\" and \"standard\" columns are accesible via the columns endpoint; \"calculated\" columns are not accessible."
   ]
  },
  {
   "cell_type": "code",
   "execution_count": null,
   "metadata": {},
   "outputs": [
    {
     "name": "stdout",
     "output_type": "stream",
     "text": [
      "[\n",
      "    {\n",
      "        \"id\": \"detail_type\",\n",
      "        \"name\": \"Detail Type\",\n",
      "        \"groupable\": true,\n",
      "        \"aggregatable\": false,\n",
      "        \"type\": \"standard\",\n",
      "        \"filterable\": true,\n",
      "        \"position\": -1\n",
      "    },\n",
      "    {\n",
      "        \"id\": \"3141780\",\n",
      "        \"name\": \"Commtiment Subcontracts\",\n",
      "        \"aggregatable\": true,\n",
      "        \"groupable\": false,\n",
      "        \"position\": 4,\n",
      "        \"type\": \"source\",\n",
      "        \"filterable\": false\n",
      "    },\n",
      "    {\n",
      "        \"id\": \"3141801\",\n",
      "        \"name\": \"Commitment Purchase Orders\",\n",
      "        \"aggregatable\": true,\n",
      "        \"groupable\": false,\n",
      "        \"position\": 5,\n",
      "        \"type\": \"source\",\n",
      "        \"filterable\": false\n",
      "    },\n",
      "    {\n",
      "        \"id\": \"3141802\",\n",
      "        \"name\": \"Commitment COs\",\n",
      "        \"aggregatable\": true,\n",
      "        \"groupable\": false,\n",
      "        \"position\": 6,\n",
      "        \"type\": \"source\",\n",
      "        \"filterable\": false\n",
      "    },\n",
      "    {\n",
      "        \"id\": \"3141791\",\n",
      "        \"name\": \"Cost to Date\",\n",
      "        \"aggregatable\": true,\n",
      "        \"groupable\": false,\n",
      "        \"position\": 1,\n",
      "        \"type\": \"source\",\n",
      "        \"filterable\": false\n",
      "    }\n",
      "]\n",
      "Column names and IDs:\n",
      "('Budget Code', 'budget_code')\n",
      "('Vendor', 'vendor')\n",
      "('Item', 'item')\n",
      "('Description', 'description')\n",
      "('Detail Type', 'detail_type')\n",
      "('Commtiment Subcontracts', '3141780')\n",
      "('Commitment Purchase Orders', '3141801')\n",
      "('Commitment COs', '3141802')\n",
      "('Cost to Date', '3141791')\n"
     ]
    }
   ],
   "source": [
    "view_id = 414205 # simplified budget view from earlier example\n",
    "columns = connection.budgets.columns.get(\n",
    "    company_id=company[\"id\"],\n",
    "    project_id=project[\"id\"],\n",
    "    budget_view_id=view_id\n",
    ")\n",
    "col_ids = [(col[\"name\"], col[\"id\"]) for col in columns]\n",
    "print(json.dumps(columns, indent=4))\n",
    "\n",
    "print(\"Column names and IDs:\")\n",
    "for col_id in col_ids:\n",
    "    print(col_id)"
   ]
  },
  {
   "cell_type": "markdown",
   "metadata": {},
   "source": [
    "#### `budgets.columns.find()`\n",
    "If you know the `name` or `id` of the column, you can use the `find()` method from the `budgets.columns` accessor to get that column's specific details."
   ]
  },
  {
   "cell_type": "code",
   "execution_count": null,
   "metadata": {},
   "outputs": [
    {
     "name": "stdout",
     "output_type": "stream",
     "text": [
      "{\n",
      "    \"id\": \"3141791\",\n",
      "    \"name\": \"Cost to Date\",\n",
      "    \"aggregatable\": true,\n",
      "    \"groupable\": false,\n",
      "    \"position\": 1,\n",
      "    \"type\": \"source\",\n",
      "    \"filterable\": false\n",
      "}\n"
     ]
    }
   ],
   "source": [
    "# Use find() with a string name\n",
    "col_str = \"Cost to Date\"\n",
    "col_by_str = connection.budgets.columns.find(\n",
    "    company_id=company[\"id\"],\n",
    "    project_id=project[\"id\"],\n",
    "    budget_view_id=view_id,\n",
    "    identifier=col_str\n",
    ")\n",
    "print(json.dumps(col_by_str, indent=4))"
   ]
  },
  {
   "cell_type": "markdown",
   "metadata": {},
   "source": [
    "---"
   ]
  },
  {
   "cell_type": "markdown",
   "metadata": {},
   "source": [
    "## Budgets: Rows\n",
    "\n",
    "![budget-rows](https://github.com/rogers-obrien-rad/ProPyCore/docs/images/procore-budget-rows.png)"
   ]
  },
  {
   "cell_type": "markdown",
   "metadata": {},
   "source": [
    "The rows contain the real budget data. "
   ]
  },
  {
   "cell_type": "markdown",
   "metadata": {},
   "source": [
    "#### `budgets.rows.get()`\n",
    "You can get the list data by row for a budget view by using `get()` method from the `budgets.columns` accessor including the view ID."
   ]
  },
  {
   "cell_type": "code",
   "execution_count": 9,
   "metadata": {},
   "outputs": [
    {
     "name": "stdout",
     "output_type": "stream",
     "text": [
      "[\n",
      "    {\n",
      "        \"curve\": null,\n",
      "        \"start_date\": null,\n",
      "        \"end_date\": null,\n",
      "        \"deletable\": false,\n",
      "        \"budgeted\": true,\n",
      "        \"budgetable\": true,\n",
      "        \"budget_forecast\": {\n",
      "            \"id\": 34752781,\n",
      "            \"manual_amount\": \"0.00\",\n",
      "            \"automatic_amount\": \"30000.00\",\n",
      "            \"amount\": \"30000.00\",\n",
      "            \"automatically_calculated\": true,\n",
      "            \"calculation_strategy\": \"automatic\",\n",
      "            \"notes\": \"\"\n",
      "        },\n",
      "        \"wbs_code\": {\n",
      "            \"id\": 1752071628,\n",
      "            \"description\": \"Project Manager.Labor\",\n",
      "            \"flat_code\": \"00-.30.14-.L\",\n",
      "            \"flat_name\": \"Project Manager.Labor\",\n",
      "            \"segment_items\": [\n",
      "                {\n",
      "                    \"id\": 971232400,\n",
      "                    \"code\": \"00-.30.14-\",\n",
      "                    \"name\": \"Project Manager\",\n",
      "                    \"path_code\": \"00-.30.14-\",\n",
      "                    \"path_ids\": [\n",
      "                        971232362,\n",
      "                        971232400\n",
      "                    ],\n",
      "                    \"path_codes\": [\n",
      "                        \"00 - General Conditions\",\n",
      "                        \"00-.30.14- - Project Manager\"\n",
      "                    ],\n",
      "                    \"is_parent\": false,\n",
      "                    \"segment\": {\n",
      "                        \"id\": 22859,\n",
      "                        \"type\": \"cost_code\",\n",
      "                        \"name\": \"Cost Code\",\n",
      "                        \"structure\": \"tiered\"\n",
      "                    }\n",
      "                },\n",
      "                {\n",
      "                    \"id\": 832342,\n",
      "                    \"code\": \"L\",\n",
      "                    \"name\": \"Labor\",\n",
      "                    \"path_code\": \"L\",\n",
      "                    \"path_ids\": [\n",
      "                        832342\n",
      "                    ],\n",
      "                    \"path_codes\": [\n",
      "                        \"L\"\n",
      "                    ],\n",
      "                    \"is_parent\": false,\n",
      "                    \"segment\": {\n",
      "                        \"id\": 22860,\n",
      "                        \"type\": \"line_item_type\",\n",
      "                        \"name\": \"Cost Type\",\n",
      "                        \"structure\": \"flat\"\n",
      "                    }\n",
      "                }\n",
      "            ]\n",
      "        },\n",
      "        \"wbs_code_id\": 1752071628,\n",
      "        \"unbudgeted_reason\": null,\n",
      "        \"currency_configuration\": {\n",
      "            \"currency_iso_code\": null\n",
      "        },\n",
      "        \"id\": 34827797,\n",
      "        \"budget_row_id\": \"1752071628\",\n",
      "        \"biller_id\": 2783683,\n",
      "        \"root_cost_code_id\": 971232362,\n",
      "        \"cost_code_id\": 971232400,\n",
      "        \"cost_code_level_1_id\": 971232362,\n",
      "        \"cost_code_level_2_id\": 971232400,\n",
      "        \"cost_code_level_3_id\": 0,\n",
      "        \"cost_code_level_4_id\": 0,\n",
      "        \"cost_code_level_5_id\": 0,\n",
      "        \"cost_code_level_1\": \"00 - General Conditions\",\n",
      "        \"cost_code_level_2\": \"00-.30.14- - Project Manager\",\n",
      "        \"cost_code_level_3\": \"None\",\n",
      "        \"cost_code_level_4\": \"None\",\n",
      "        \"cost_code_level_5\": \"None\",\n",
      "        \"cost_code_origin_id\": null,\n",
      "        \"category_id\": 832342,\n",
      "        \"biller\": \"Sandbox Test Project\",\n",
      "        \"biller_type\": \"Project\",\n",
      "        \"root_cost_code\": \"00 - General Conditions\",\n",
      "        \"cost_code\": \"00-.30.14- - Project Manager\",\n",
      "        \"category\": \"Labor\",\n",
      "        \"uom\": \"hours\",\n",
      "        \"unit_cost\": \"150.0000\",\n",
      "        \"quantity\": \"200.000000000000\",\n",
      "        \"calculation_strategy\": \"automatic\",\n",
      "        \"project_id\": 2783683,\n",
      "        \"project\": \"Sandbox Test Project\",\n",
      "        \"company_id\": 8089,\n",
      "        \"company\": \"Rogers-O`Brien Construction\",\n",
      "        \"budget_modifications\": \"0.00\",\n",
      "        \"original_budget_amount\": \"30000.00\",\n",
      "        \"Commtiment Subcontracts\": \"0.00\",\n",
      "        \"Commitment Purchase Orders\": \"0.00\",\n",
      "        \"Commitment COs\": \"0.00\",\n",
      "        \"Cost to Date\": \"0.00\",\n",
      "        \"Current Budget\": \"30000.00\",\n",
      "        \"Total Variance (Over) / Under $\": \"0.00\",\n",
      "        \"% Complete\": \"0.00\"\n",
      "    },\n",
      "    {\n",
      "        \"curve\": null,\n",
      "        \"start_date\": null,\n",
      "        \"end_date\": null,\n",
      "        \"deletable\": false,\n",
      "        \"budgeted\": true,\n",
      "        \"budgetable\": true,\n",
      "        \"budget_forecast\": {\n",
      "            \"id\": 34752782,\n",
      "            \"manual_amount\": \"0.00\",\n",
      "            \"automatic_amount\": \"10000.00\",\n",
      "            \"amount\": \"10000.00\",\n",
      "            \"automatically_calculated\": true,\n",
      "            \"calculation_strategy\": \"automatic\",\n",
      "            \"notes\": \"\"\n",
      "        },\n",
      "        \"wbs_code\": {\n",
      "            \"id\": 1752073765,\n",
      "            \"description\": \"Spare Parts                                                 .Other\",\n",
      "            \"flat_code\": \"00-.78.43-.O\",\n",
      "            \"flat_name\": \"Spare Parts                                                 .Other\",\n",
      "            \"segment_items\": [\n",
      "                {\n",
      "                    \"id\": 971232522,\n",
      "                    \"code\": \"00-.78.43-\",\n",
      "                    \"name\": \"Spare Parts                                                 \",\n",
      "                    \"path_code\": \"00-.78.43-\",\n",
      "                    \"path_ids\": [\n",
      "                        971232362,\n",
      "                        971232522\n",
      "                    ],\n",
      "                    \"path_codes\": [\n",
      "                        \"00 - General Conditions\",\n",
      "                        \"00-.78.43- - Spare Parts                                                 \"\n",
      "                    ],\n",
      "                    \"is_parent\": false,\n",
      "                    \"segment\": {\n",
      "                        \"id\": 22859,\n",
      "                        \"type\": \"cost_code\",\n",
      "                        \"name\": \"Cost Code\",\n",
      "                        \"structure\": \"tiered\"\n",
      "                    }\n",
      "                },\n",
      "                {\n",
      "                    \"id\": 832349,\n",
      "                    \"code\": \"O\",\n",
      "                    \"name\": \"Other\",\n",
      "                    \"path_code\": \"O\",\n",
      "                    \"path_ids\": [\n",
      "                        832349\n",
      "                    ],\n",
      "                    \"path_codes\": [\n",
      "                        \"O\"\n",
      "                    ],\n",
      "                    \"is_parent\": false,\n",
      "                    \"segment\": {\n",
      "                        \"id\": 22860,\n",
      "                        \"type\": \"line_item_type\",\n",
      "                        \"name\": \"Cost Type\",\n",
      "                        \"structure\": \"flat\"\n",
      "                    }\n",
      "                }\n",
      "            ]\n",
      "        },\n",
      "        \"wbs_code_id\": 1752073765,\n",
      "        \"unbudgeted_reason\": null,\n",
      "        \"currency_configuration\": {\n",
      "            \"currency_iso_code\": null\n",
      "        },\n",
      "        \"id\": 34827798,\n",
      "        \"budget_row_id\": \"1752073765\",\n",
      "        \"biller_id\": 2783683,\n",
      "        \"root_cost_code_id\": 971232362,\n",
      "        \"cost_code_id\": 971232522,\n",
      "        \"cost_code_level_1_id\": 971232362,\n",
      "        \"cost_code_level_2_id\": 971232522,\n",
      "        \"cost_code_level_3_id\": 0,\n",
      "        \"cost_code_level_4_id\": 0,\n",
      "        \"cost_code_level_5_id\": 0,\n",
      "        \"cost_code_level_1\": \"00 - General Conditions\",\n",
      "        \"cost_code_level_2\": \"00-.78.43- - Spare Parts                                                 \",\n",
      "        \"cost_code_level_3\": \"None\",\n",
      "        \"cost_code_level_4\": \"None\",\n",
      "        \"cost_code_level_5\": \"None\",\n",
      "        \"cost_code_origin_id\": null,\n",
      "        \"category_id\": 832349,\n",
      "        \"biller\": \"Sandbox Test Project\",\n",
      "        \"biller_type\": \"Project\",\n",
      "        \"root_cost_code\": \"00 - General Conditions\",\n",
      "        \"cost_code\": \"00-.78.43- - Spare Parts                                                 \",\n",
      "        \"category\": \"Other\",\n",
      "        \"uom\": \"ls\",\n",
      "        \"unit_cost\": \"10000.0000\",\n",
      "        \"quantity\": \"1.000000000000\",\n",
      "        \"calculation_strategy\": \"automatic\",\n",
      "        \"project_id\": 2783683,\n",
      "        \"project\": \"Sandbox Test Project\",\n",
      "        \"company_id\": 8089,\n",
      "        \"company\": \"Rogers-O`Brien Construction\",\n",
      "        \"budget_modifications\": \"0.00\",\n",
      "        \"original_budget_amount\": \"10000.00\",\n",
      "        \"Commtiment Subcontracts\": \"0.00\",\n",
      "        \"Commitment Purchase Orders\": \"0.00\",\n",
      "        \"Commitment COs\": \"0.00\",\n",
      "        \"Cost to Date\": \"0.00\",\n",
      "        \"Current Budget\": \"10000.00\",\n",
      "        \"Total Variance (Over) / Under $\": \"0.00\",\n",
      "        \"% Complete\": \"0.00\"\n",
      "    }\n",
      "]\n"
     ]
    }
   ],
   "source": [
    "view_id = 414205 # simplified budget view from earlier example\n",
    "rows = connection.budgets.rows.get(\n",
    "    company_id=company[\"id\"],\n",
    "    project_id=project[\"id\"],\n",
    "    budget_view_id=view_id\n",
    ")\n",
    "print(json.dumps(rows, indent=4))"
   ]
  },
  {
   "cell_type": "code",
   "execution_count": null,
   "metadata": {},
   "outputs": [],
   "source": []
  }
 ],
 "metadata": {
  "kernelspec": {
   "display_name": ".venv",
   "language": "python",
   "name": "python3"
  },
  "language_info": {
   "codemirror_mode": {
    "name": "ipython",
    "version": 3
   },
   "file_extension": ".py",
   "mimetype": "text/x-python",
   "name": "python",
   "nbconvert_exporter": "python",
   "pygments_lexer": "ipython3",
   "version": "3.11.9"
  }
 },
 "nbformat": 4,
 "nbformat_minor": 2
}
