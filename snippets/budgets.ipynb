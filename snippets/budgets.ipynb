{
 "cells": [
  {
   "cell_type": "markdown",
   "metadata": {},
   "source": [
    "# ProPyCore SDK Examples: Budgets\n",
    "\n",
    "This notebook contains snippets from the `budgets.py` module."
   ]
  },
  {
   "cell_type": "code",
   "execution_count": 7,
   "metadata": {},
   "outputs": [],
   "source": [
    "import os\n",
    "import dotenv\n",
    "import ProPyCore"
   ]
  },
  {
   "cell_type": "markdown",
   "metadata": {},
   "source": [
    "### Setup ProPyCore Connection\n",
    "Ensure you have a `.env` file with the following information included:\n",
    "* `CLIENT_ID`: your data connection app's client ID\n",
    "* `CLIENT_SECRET`: your data connection app's client secret"
   ]
  },
  {
   "cell_type": "code",
   "execution_count": 11,
   "metadata": {},
   "outputs": [],
   "source": [
    "dotenv.load_dotenv()\n",
    "connection = ProPyCore.procore.Procore(\n",
    "    client_id=os.getenv(\"CLIENT_ID\"),\n",
    "    client_secret=os.getenv(\"CLIENT_SECRET\"),\n",
    "    redirect_uri=\"urn:ietf:wg:oauth:2.0:oob\", # default for data connection apps\n",
    "    oauth_url=\"https://app.procore.com\", # default for data connection apps\n",
    "    base_url=\"https://app.procore.com\" # default for data connection apps\n",
    ")"
   ]
  },
  {
   "cell_type": "markdown",
   "metadata": {},
   "source": [
    "### Setup Project\n",
    "Use the cells below to specify your company and your project"
   ]
  },
  {
   "cell_type": "code",
   "execution_count": 13,
   "metadata": {},
   "outputs": [],
   "source": [
    "company_name = \"Rogers-O`Brien Construction\"\n",
    "project_name = \"Sandbox Test Project\""
   ]
  },
  {
   "cell_type": "markdown",
   "metadata": {},
   "source": [
    "Now use ProPyCore to get the company and project details."
   ]
  },
  {
   "cell_type": "code",
   "execution_count": 14,
   "metadata": {},
   "outputs": [
    {
     "ename": "AttributeError",
     "evalue": "'Procore' object has no attribute 'companies'",
     "output_type": "error",
     "traceback": [
      "\u001b[1;31m---------------------------------------------------------------------------\u001b[0m",
      "\u001b[1;31mAttributeError\u001b[0m                            Traceback (most recent call last)",
      "Cell \u001b[1;32mIn[14], line 1\u001b[0m\n\u001b[1;32m----> 1\u001b[0m company \u001b[38;5;241m=\u001b[39m \u001b[43mconnection\u001b[49m\u001b[38;5;241;43m.\u001b[39;49m\u001b[43mcompanies\u001b[49m\u001b[38;5;241m.\u001b[39mfind(identifier\u001b[38;5;241m=\u001b[39mcompany_name)\n\u001b[0;32m      2\u001b[0m project \u001b[38;5;241m=\u001b[39m connection\u001b[38;5;241m.\u001b[39mprojects\u001b[38;5;241m.\u001b[39mfind(\n\u001b[0;32m      3\u001b[0m     company_id\u001b[38;5;241m=\u001b[39mcompany[\u001b[38;5;124m\"\u001b[39m\u001b[38;5;124mid\u001b[39m\u001b[38;5;124m\"\u001b[39m],\n\u001b[0;32m      4\u001b[0m     identifier\u001b[38;5;241m=\u001b[39mproject_name\n\u001b[0;32m      5\u001b[0m )\n",
      "\u001b[1;31mAttributeError\u001b[0m: 'Procore' object has no attribute 'companies'"
     ]
    }
   ],
   "source": [
    "company = connection.companies.find(identifier=company_name)\n",
    "project = connection.projects.find(\n",
    "    company_id=company[\"id\"],\n",
    "    identifier=project_name\n",
    ")"
   ]
  },
  {
   "cell_type": "code",
   "execution_count": null,
   "metadata": {},
   "outputs": [],
   "source": []
  }
 ],
 "metadata": {
  "kernelspec": {
   "display_name": ".venv",
   "language": "python",
   "name": "python3"
  },
  "language_info": {
   "codemirror_mode": {
    "name": "ipython",
    "version": 3
   },
   "file_extension": ".py",
   "mimetype": "text/x-python",
   "name": "python",
   "nbconvert_exporter": "python",
   "pygments_lexer": "ipython3",
   "version": "3.11.9"
  }
 },
 "nbformat": 4,
 "nbformat_minor": 2
}
